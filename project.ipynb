{
 "cells": [
  {
   "cell_type": "markdown",
   "metadata": {},
   "source": [
    "Importing Relevant Libraries:"
   ]
  },
  {
   "cell_type": "code",
   "execution_count": 3,
   "metadata": {},
   "outputs": [
    {
     "name": "stderr",
     "output_type": "stream",
     "text": [
      "[nltk_data] Downloading package words to\n",
      "[nltk_data]     /Users/chamodgamage/nltk_data...\n",
      "[nltk_data]   Package words is already up-to-date!\n"
     ]
    },
    {
     "data": {
      "text/plain": [
       "True"
      ]
     },
     "execution_count": 3,
     "metadata": {},
     "output_type": "execute_result"
    }
   ],
   "source": [
    "import nltk\n",
    "nltk.download('words')"
   ]
  },
  {
   "cell_type": "markdown",
   "metadata": {},
   "source": [
    "## Brute Force Method"
   ]
  },
  {
   "cell_type": "code",
   "execution_count": 20,
   "metadata": {},
   "outputs": [
    {
     "name": "stdout",
     "output_type": "stream",
     "text": [
      "112\n",
      "Best Scrabble words: [('ALEPOT', 8), ('PELOTA', 8), ('PLOAT', 7), ('PLATE', 7), ('PETAL', 7), ('PATEL', 7), ('LEAPT', 7), ('PALET', 7), ('TEPAL', 7), ('PLEAT', 7)]\n"
     ]
    }
   ],
   "source": [
    "from itertools import permutations\n",
    "from nltk.corpus import words\n",
    "\n",
    "# Replace with the appropriate letter values in your Scrabble set\n",
    "LETTER_VALUES = {\n",
    "    'A': 1, 'B': 3, 'C': 3, 'D': 2, 'E': 1, 'F': 4, 'G': 2, 'H': 4,\n",
    "    'I': 1, 'J': 8, 'K': 5, 'L': 1, 'M': 3, 'N': 1, 'O': 1, 'P': 3,\n",
    "    'Q': 10, 'R': 1, 'S': 1, 'T': 1, 'U': 1, 'V': 4, 'W': 4, 'X': 8,\n",
    "    'Y': 4, 'Z': 10\n",
    "}\n",
    "\n",
    "def calculate_score(word):\n",
    "    return sum(LETTER_VALUES[letter] for letter in word.upper())\n",
    "\n",
    "def get_valid_words(letters):\n",
    "    valid_words = set()\n",
    "    for i in range(1, len(letters) + 1):\n",
    "        for perm in permutations(letters, i):\n",
    "            word = ''.join(perm)\n",
    "            if word.upper() in [word.upper() for word in words.words()]:\n",
    "                valid_words.add(word)\n",
    "    return valid_words\n",
    "\n",
    "def get_best_scrabble_words(letters):\n",
    "    valid_words = get_valid_words(letters)\n",
    "    scored_words = [(word, calculate_score(word)) for word in valid_words]\n",
    "    sorted_words = sorted(scored_words, key=lambda x: x[1], reverse=True)\n",
    "    return sorted_words\n",
    "\n",
    "# Example usage\n",
    "rack_letters = 'EATOPL'\n",
    "best_words = get_best_scrabble_words(rack_letters)\n",
    "print(len(best_words))\n",
    "print(\"Best Scrabble words:\", best_words[:10])  # Displaying the top 10 words"
   ]
  },
  {
   "cell_type": "code",
   "execution_count": 21,
   "metadata": {},
   "outputs": [
    {
     "name": "stdout",
     "output_type": "stream",
     "text": [
      "236736\n"
     ]
    }
   ],
   "source": [
    "print(len(words.words()))"
   ]
  },
  {
   "cell_type": "code",
   "execution_count": 3,
   "metadata": {},
   "outputs": [
    {
     "name": "stdout",
     "output_type": "stream",
     "text": [
      "C\n",
      "<__main__.TrieNode object at 0x1076a11d0>\n",
      "A\n",
      "<__main__.TrieNode object at 0x1057395d0>\n",
      "T\n",
      "<__main__.TrieNode object at 0x107603a90>\n",
      "D\n",
      "<__main__.TrieNode object at 0x1076a11d0>\n",
      "O\n",
      "<__main__.TrieNode object at 0x1076a3390>\n",
      "G\n",
      "<__main__.TrieNode object at 0x1076a3a90>\n",
      "C\n",
      "<__main__.TrieNode object at 0x1076a11d0>\n",
      "O\n",
      "<__main__.TrieNode object at 0x1057395d0>\n",
      "T\n",
      "<__main__.TrieNode object at 0x1076a1ed0>\n",
      "D\n",
      "<__main__.TrieNode object at 0x1076a11d0>\n",
      "O\n",
      "<__main__.TrieNode object at 0x1076a3390>\n",
      "T\n",
      "<__main__.TrieNode object at 0x1076a3a90>\n",
      "C\n",
      "<__main__.TrieNode object at 0x1076a11d0>\n",
      "O\n",
      "<__main__.TrieNode object at 0x1057395d0>\n",
      "G\n",
      "<__main__.TrieNode object at 0x1076a1ed0>\n",
      "D\n",
      "<__main__.TrieNode object at 0x1076a11d0>\n",
      "O\n",
      "<__main__.TrieNode object at 0x1076a3390>\n",
      "G\n",
      "<__main__.TrieNode object at 0x1076a3a90>\n",
      "S\n",
      "<__main__.TrieNode object at 0x1076a3810>\n",
      "The word 'DOG' is valid in Scrabble.\n",
      "Score for the word: 5\n"
     ]
    }
   ],
   "source": [
    "class TrieNode:\n",
    "    def __init__(self, letter, score, is_end_of_word=False, word_score=0, parent_id=None):\n",
    "        self.letter = letter\n",
    "        self.score = score\n",
    "        self.is_end_of_word = is_end_of_word\n",
    "        self.word_score = word_score\n",
    "        self.parent_id = parent_id\n",
    "        self.children = {}\n",
    "\n",
    "class Trie:\n",
    "    def __init__(self):\n",
    "        self.nodes = []\n",
    "        self.root = self.nodes[self._create_node(None, None, None, False, 0)]\n",
    "\n",
    "    def _create_node(self, letter, score, parent_id, is_end_of_word, word_score):\n",
    "        node = TrieNode(letter, score, is_end_of_word, word_score, parent_id)\n",
    "        self.nodes.append(node)\n",
    "        return len(self.nodes) - 1  # Return the index of the newly created node\n",
    "\n",
    "    def insert_word(self, word, scores):\n",
    "        current_node = self.root\n",
    "\n",
    "        for i, letter in enumerate(word):\n",
    "            score = scores[letter]\n",
    "            is_end_of_word = (i == len(word) - 1)\n",
    "\n",
    "            print(letter)\n",
    "            print(current_node)\n",
    "\n",
    "            if letter not in current_node.children:\n",
    "                child_id = self._create_node(letter, score, current_node, is_end_of_word, current_node.word_score + score)\n",
    "                current_node.children[letter] = child_id\n",
    "                current_node = self.nodes[child_id]\n",
    "            else:\n",
    "                child_id = current_node.children[letter]\n",
    "                child_node = self.nodes[child_id]\n",
    "                if is_end_of_word:\n",
    "                    child_node.is_end_of_word = True\n",
    "\n",
    "                current_node = child_node\n",
    "\n",
    "    def search_word(self, word):\n",
    "        current_node = self.root\n",
    "\n",
    "        for letter in word:\n",
    "            if letter in current_node.children:\n",
    "                current_node = self.nodes[current_node.children[letter]]\n",
    "            else:\n",
    "                return None  # Word not found\n",
    "\n",
    "        return current_node\n",
    "\n",
    "# Example usage\n",
    "LETTER_VALUES = {\n",
    "    'A': 1, 'B': 3, 'C': 3, 'D': 2, 'E': 1, 'F': 4, 'G': 2, 'H': 4,\n",
    "    'I': 1, 'J': 8, 'K': 5, 'L': 1, 'M': 3, 'N': 1, 'O': 1, 'P': 3,\n",
    "    'Q': 10, 'R': 1, 'S': 1, 'T': 1, 'U': 1, 'V': 4, 'W': 4, 'X': 8,\n",
    "    'Y': 4, 'Z': 10\n",
    "}\n",
    "\n",
    "trie = Trie()\n",
    "\n",
    "# Insert words into the trie\n",
    "words_to_insert = ['CAT', 'DOG', 'COT', 'DOT', 'COG', 'DOGS']\n",
    "for word in words_to_insert:\n",
    "    trie.insert_word(word, LETTER_VALUES)\n",
    "\n",
    "# Search for a word in the trie\n",
    "search_word = 'DOG'\n",
    "result_node = trie.search_word(search_word)\n",
    "\n",
    "if result_node:\n",
    "    print(f\"The word '{search_word}' is valid in Scrabble.\")\n",
    "    print(f\"Score for the word: {result_node.word_score}\")\n",
    "else:\n",
    "    print(f\"The word '{search_word}' is not valid in Scrabble.\")\n"
   ]
  }
 ],
 "metadata": {
  "kernelspec": {
   "display_name": "base",
   "language": "python",
   "name": "python3"
  },
  "language_info": {
   "codemirror_mode": {
    "name": "ipython",
    "version": 3
   },
   "file_extension": ".py",
   "mimetype": "text/x-python",
   "name": "python",
   "nbconvert_exporter": "python",
   "pygments_lexer": "ipython3",
   "version": "3.11.4"
  }
 },
 "nbformat": 4,
 "nbformat_minor": 2
}
